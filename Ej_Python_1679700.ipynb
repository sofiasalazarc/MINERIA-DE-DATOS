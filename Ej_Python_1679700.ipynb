{
 "cells": [
  {
   "cell_type": "code",
   "execution_count": 1,
   "metadata": {},
   "outputs": [
    {
     "name": "stdout",
     "output_type": "stream",
     "text": [
      "Introduce tu nombre: Sofia Salazar\n",
      "Introduce tu matricula: 1679700\n",
      "Nombre:  Sofia Salazar Matricula:  1679700\n"
     ]
    }
   ],
   "source": [
    "#Ejercicio 1\n",
    "#Realiza una variable con tu matricula y realiza una secuencia de imprimir con tu nombre y tu matricula concatenados.\n",
    "name=(input(\"Introduce tu nombre: \"))\n",
    "b1=int(input(\"Introduce tu matricula: \"))\n",
    "print(\"Nombre: \", name, \"Matricula: \", b1)"
   ]
  },
  {
   "cell_type": "code",
   "execution_count": 2,
   "metadata": {},
   "outputs": [
    {
     "name": "stdout",
     "output_type": "stream",
     "text": [
      "Introduce el 1er numero: 5\n",
      "Introduce el 2do número: 4\n",
      "Introduce que operación ocupa\n",
      "1)Suma 2)Resta 3)Multiplicacion 4)Division 5)Exponente 1\n",
      "Resultado\n",
      "9\n",
      "Termino con la calculadora? \n",
      " 0)No 1)Si: 1\n"
     ]
    }
   ],
   "source": [
    "#Ejercicio 2\n",
    "#Pidiendo el input del usuario pide dos números y crea una pequeña calculadora con \n",
    "#los operadores básicos de suma, resta, multiplicación, división, y exponente.\n",
    "a=int(input(\"Introduce el 1er numero: \"))\n",
    "b = int(input(\"Introduce el 2do número: \"))\n",
    "i=0\n",
    "while i == 0 :\n",
    "    op=0\n",
    "    print(\"Introduce que operación ocupa\")\n",
    "    op= int(input(\"1)Suma 2)Resta 3)Multiplicacion 4)Division 5)Exponente \"))\n",
    "    if op==1:\n",
    "        c= a+b\n",
    "        print(\"Resultado\")\n",
    "        print(c)\n",
    "    if op==2:\n",
    "        c= a-b\n",
    "        print(\"Resultado\")\n",
    "        print(c)\n",
    "    if op==3:\n",
    "        c= a*b\n",
    "        print(\"Resultado\")\n",
    "        print(c)\n",
    "    if op==4:\n",
    "        if b1==0:\n",
    "            print(\"Error\")\n",
    "        else:\n",
    "            print(\"Resultado\")\n",
    "            c= a/b\n",
    "            print(c)\n",
    "    if op==5:\n",
    "        c= a1**b1\n",
    "        print(\"Resultado\")\n",
    "        print(c)\n",
    "    print(\"Termino con la calculadora? \")\n",
    "    i= int(input(\" 0)No 1)Si: \"))"
   ]
  },
  {
   "cell_type": "code",
   "execution_count": 3,
   "metadata": {},
   "outputs": [
    {
     "name": "stdout",
     "output_type": "stream",
     "text": [
      "3\n",
      "6\n",
      "9\n",
      "12\n",
      "15\n",
      "18\n",
      "21\n",
      "24\n",
      "27\n",
      "30\n",
      "La suma de los numeros es:  165\n"
     ]
    }
   ],
   "source": [
    "#Ejercicio 3\n",
    "#Con loop while o for, realiza una lista de 10 numeros multiplos de 3, \n",
    "#y después realiza una función de loop que sume todos los números dentro del arreglo.\n",
    "a = 1\n",
    "s = 0\n",
    "for i in range (1,11):\n",
    "    x = i*3\n",
    "    s = s+x\n",
    "    print(x)\n",
    "print (\"La suma de los numeros es: \", s)"
   ]
  },
  {
   "cell_type": "code",
   "execution_count": 7,
   "metadata": {},
   "outputs": [
    {
     "name": "stdout",
     "output_type": "stream",
     "text": [
      "Introduce el numero: 4\n",
      "Es par\n"
     ]
    }
   ],
   "source": [
    "#Ejercicio 4\n",
    "#Con una función de if else, revisar si un número es par o es impar.\n",
    "#Con una función de if else, revisar si un número es primo o no.\n",
    "a= int(input(\"Introduce el numero: \"))\n",
    "if a%2 == 0:\n",
    "    print(\"Es par\")\n",
    "if a%3 == 0:\n",
    "    print(\"Es impar\")"
   ]
  },
  {
   "cell_type": "code",
   "execution_count": 8,
   "metadata": {},
   "outputs": [
    {
     "name": "stdout",
     "output_type": "stream",
     "text": [
      "Enter first number: 4\n",
      "Enter second number: 2\n",
      "0. Exit\n",
      "1. Add\n",
      "2. Subtraction\n",
      "3. Multiplication\n",
      "4. Division\n",
      "Enter choice: 1\n",
      "Result:  6\n",
      "0. Exit\n",
      "1. Add\n",
      "2. Subtraction\n",
      "3. Multiplication\n",
      "4. Division\n",
      "Enter choice: 0\n",
      "Exiting!\n",
      "\n"
     ]
    }
   ],
   "source": [
    "#Ejecicio 5\n",
    "#Utilizando diferentes clases en python, crea una calculadora con los operadores básicos de suma, \n",
    "#resta, multiplicación, división, y exponente. Funciones matemáticas en la librería de math en python:\n",
    "class cal():\n",
    "    def __init__(self,a,b):\n",
    "        self.a=a\n",
    "        self.b=b\n",
    "    def add(self):\n",
    "        return self.a+self.b\n",
    "    def mul(self):\n",
    "        return self.a*self.b\n",
    "    def div(self):\n",
    "        return self.a/self.b\n",
    "    def sub(self):\n",
    "        return self.a-self.b\n",
    "a=int(input(\"Enter first number: \"))\n",
    "b=int(input(\"Enter second number: \"))\n",
    "obj=cal(a,b)\n",
    "choice=1\n",
    "while choice!=0:\n",
    "    print(\"0. Exit\")\n",
    "    print(\"1. Add\")\n",
    "    print(\"2. Subtraction\")\n",
    "    print(\"3. Multiplication\")\n",
    "    print(\"4. Division\")\n",
    "    choice=int(input(\"Enter choice: \"))\n",
    "    if choice==1:\n",
    "        print(\"Result: \",obj.add())\n",
    "    elif choice==2:\n",
    "        print(\"Result: \",obj.sub())\n",
    "    elif choice==3:\n",
    "        print(\"Result: \",obj.mul())\n",
    "    elif choice==4:\n",
    "        print(\"Result: \",round(obj.div(),2))\n",
    "    elif choice==0:\n",
    "        print(\"Exiting!\")\n",
    "    else:\n",
    "        print(\"Invalid choice!!\")\n",
    " \n",
    " \n",
    "print()\n",
    "#Fuente: https://www.sanfoundry.com/python-program-class-performs-basic-calculator-operations/"
   ]
  },
  {
   "cell_type": "code",
   "execution_count": 36,
   "metadata": {},
   "outputs": [
    {
     "name": "stdout",
     "output_type": "stream",
     "text": [
      "La variable a es de tipo:  <class 'int'>\n",
      "La variable b es de tipo:  <class 'float'>\n",
      "La variable c es de tipo:  <class 'complex'>\n",
      "La variable d es de tipo:  <class 'bool'>\n"
     ]
    }
   ],
   "source": [
    "#Ejercicios con estructuras básicas de python.\n",
    "#Tuplas\n",
    "#Crear una variable flotante, integer, boleana y compleja e imprimir el tipo de variable que es.\n",
    "a = 8\n",
    "b = 2.25\n",
    "c = 6 + 5j\n",
    "d = False\n",
    "print(\"La variable a es de tipo: \", type(a))\n",
    "print(\"La variable b es de tipo: \", type (b))\n",
    "print(\"La variable c es de tipo: \", type (c))\n",
    "print(\"La variable d es de tipo: \", type (d))\n"
   ]
  },
  {
   "cell_type": "code",
   "execution_count": 37,
   "metadata": {},
   "outputs": [
    {
     "name": "stdout",
     "output_type": "stream",
     "text": [
      "Primer valor:  1\n",
      "Ultimo valor:  6\n"
     ]
    }
   ],
   "source": [
    "#Crear una tupla con valores enteros imprimir el primer y ultimo valor.\n",
    "a=(1, 2, 3, 4, 5, 6)\n",
    "print (\"Primer valor: \", a[0])\n",
    "print (\"Ultimo valor: \", a[5])"
   ]
  },
  {
   "cell_type": "code",
   "execution_count": 14,
   "metadata": {},
   "outputs": [],
   "source": [
    "#Añadir 3 valores de string a la tupla.\n",
    "#error"
   ]
  },
  {
   "cell_type": "code",
   "execution_count": 17,
   "metadata": {},
   "outputs": [
    {
     "name": "stdout",
     "output_type": "stream",
     "text": [
      "¿El 3 existe dentro de la tupla? True\n",
      "¿El 8 existe dentro de la tupla? False\n"
     ]
    }
   ],
   "source": [
    "#Verificar si una variable existe dentro de la tupla.\n",
    "a=(1, 2, 3, 4, 5, 6)\n",
    "print(\"¿El 3 existe dentro de la tupla?\", 5 in a)\n",
    "print(\"¿El 8 existe dentro de la tupla?\", 10 in a)"
   ]
  },
  {
   "cell_type": "code",
   "execution_count": 34,
   "metadata": {},
   "outputs": [
    {
     "name": "stdout",
     "output_type": "stream",
     "text": [
      "[24, 50, 28, 21, 34, 88, 65, 21, 18, 95, 98, 71, 99, 75, 2, 78, 36, 2, 92, 34, 81, 56, 80, 58, 44, 29, 78, 17, 87, 22, 10, 53, 21, 4, 51, 45, 89, 34, 93]\n",
      "Lista de pares:  [78, 12, 100, 72, 42, 36, 44, 66, 12, 90, 54, 92, 10, 26, 90, 18, 4, 52, 52, 42, 96, 88, 80]\n",
      "Lista de impares:  [13, 55, 25, 9, 75, 45, 47, 3, 43, 67, 15, 53, 97, 91, 25, 1]\n"
     ]
    }
   ],
   "source": [
    "#Listas\n",
    "#Crear una lista con 40 elementos aleatorios enteros\n",
    "import random as r\n",
    "L = []\n",
    "for i in range (0,39):\n",
    "    L.append(r.randint(1, 100))\n",
    "print (L)\n",
    "#Con una funcion (def) crear dos listas nuevas a partir de la lista creada por numeros aleatorios, \n",
    "#en la cual en una esten los elementos pares, y en la otra los elementos impares\n",
    "import random as r\n",
    "L = []\n",
    "for i in range (0,39):\n",
    "    L.append(r.randint(1, 100))\n",
    "    \n",
    "def num_pares(numeros):\n",
    "    pares = []\n",
    "    \n",
    "    for n in numeros:\n",
    "        if n % 2 == 0:\n",
    "            pares.append(n)\n",
    "            \n",
    "    return pares\n",
    "listapares = num_pares(L)\n",
    "\n",
    "def num_impares(numeros):\n",
    "    impares = []\n",
    "    \n",
    "    for n in numeros:\n",
    "        if n % 2 != 0:\n",
    "            impares.append(n)\n",
    "            \n",
    "    return impares\n",
    "listaimpares = num_impares(L)\n",
    "\n",
    "print (\"Lista de pares: \", listapares)\n",
    "print (\"Lista de impares: \", listaimpares)"
   ]
  },
  {
   "cell_type": "code",
   "execution_count": 44,
   "metadata": {},
   "outputs": [],
   "source": [
    "#Crear dos variables con la longitud de ambas listas nuevas e imprimir las variables.\n",
    "x=[]\n",
    "y=[]\n",
    "\n",
    "for i in range(0,len(listapares)):\n",
    "        x.append(listapares[i])\n",
    "    \n",
    "for i in range(0,len(listaimpares)):\n",
    "        y.append(listaimpares[i])\n"
   ]
  },
  {
   "cell_type": "code",
   "execution_count": 45,
   "metadata": {},
   "outputs": [
    {
     "name": "stdout",
     "output_type": "stream",
     "text": [
      "[4, 10, 12, 12, 18, 26, 36, 42, 42, 44, 52, 52, 54, 66, 72, 78, 80, 88, 90, 90, 92, 96, 100]\n",
      "[97, 91, 75, 67, 55, 53, 47, 45, 43, 25, 25, 15, 13, 9, 3, 1]\n"
     ]
    }
   ],
   "source": [
    "#Ordenar los elementos de la lista par de mayor a menor, y los de la lista impar de menor a mayor.\n",
    "x.sort()\n",
    "y.sort(reverse=True)\n",
    "print(x)\n",
    "print(y)"
   ]
  },
  {
   "cell_type": "code",
   "execution_count": 33,
   "metadata": {},
   "outputs": [
    {
     "name": "stdout",
     "output_type": "stream",
     "text": [
      "['Sofia', 'Lemus', 'Diana', 'Arely', 'Mariana', 'Joel']\n",
      "\n",
      "['19', '20', '22', '23', '28', '35']\n",
      "\n",
      "['Sofia', 'Lemus', 'Diana', 'Arely', 'Mariana', 'Joel']\n",
      "\n"
     ]
    }
   ],
   "source": [
    "#Diccionarios\n",
    "#Crear un diccionario de 6 personas que conozcas con su primer nombre y su edad.\n",
    "diccionario = {'nombre' : [\"Sofia\",\"Lemus\",\"Diana\",\"Arely\",\"Mariana\",\"Joel\"], \"edad\" : [\"23\",\"20\",\"35\",\"19\",\"22\",\"28\"]}\n",
    "print(diccionario[\"nombre\"])\n",
    "print()\n",
    "\n",
    "#Crear una lista con los valores de la edad y reacomodar la lista de menor a mayor valor\n",
    "x = []\n",
    "\n",
    "for i in range(0,6):\n",
    "    x.append(diccionario[\"edad\"][i])\n",
    "x.sort()\n",
    "print(x)\n",
    "print()\n",
    "\n",
    "#Usando el diccionario y un loop, imprimir solo los nombres.\n",
    "y = []\n",
    "for i in range(0,6):\n",
    "    y.append(diccionario[\"nombre\"][i])\n",
    "print(y)\n",
    "print()\n"
   ]
  },
  {
   "cell_type": "code",
   "execution_count": 42,
   "metadata": {},
   "outputs": [
    {
     "name": "stdout",
     "output_type": "stream",
     "text": [
      "{1, 2, 3, 4, 5, 6, 7, 8, 9, 10, 11, 12, 13, 14, 15, 16, 17, 18, 19, 20, 21, 22, 23, 24, 25}\n",
      "\n",
      "25\n",
      "\n",
      "[8, 11, 5, 9, 9]\n"
     ]
    }
   ],
   "source": [
    "#Sets\n",
    "#Crea un set con 100 numeros aleatorios enteros del 1 al 25\n",
    "import random as r\n",
    "L = []\n",
    "for i in range (0,99):\n",
    "    L.append(r.randint(1, 25))\n",
    "s = set(L)\n",
    "print(s)\n",
    "print()\n",
    "#Comprueba la longitud de tu set.\n",
    "\n",
    "\n",
    "print(len(s))\n",
    "print()\n",
    "\n",
    "#Crea una lista de 5 numeros aleatorios del 1 al 10 y comprueba si cada valor aparece en el set inicial.\n",
    "M = []\n",
    "for i in range (0,5):\n",
    "    M.append(r.randint(1, 25))\n",
    "print(M)"
   ]
  },
  {
   "cell_type": "code",
   "execution_count": null,
   "metadata": {},
   "outputs": [],
   "source": []
  }
 ],
 "metadata": {
  "kernelspec": {
   "display_name": "Python 3",
   "language": "python",
   "name": "python3"
  },
  "language_info": {
   "codemirror_mode": {
    "name": "ipython",
    "version": 3
   },
   "file_extension": ".py",
   "mimetype": "text/x-python",
   "name": "python",
   "nbconvert_exporter": "python",
   "pygments_lexer": "ipython3",
   "version": "3.8.5"
  }
 },
 "nbformat": 4,
 "nbformat_minor": 4
}
